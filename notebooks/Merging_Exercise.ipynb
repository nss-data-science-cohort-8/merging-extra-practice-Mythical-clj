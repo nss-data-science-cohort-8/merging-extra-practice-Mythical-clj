{
 "cells": [
  {
   "cell_type": "markdown",
   "id": "f181481c-fafe-4fad-865f-66e29bd0c05c",
   "metadata": {},
   "source": [
    "# Merging Extra Practice"
   ]
  },
  {
   "cell_type": "markdown",
   "id": "c3e897f6-dd70-4de0-adef-ef45f16c75d5",
   "metadata": {},
   "source": [
    "### Cavin Jacobson"
   ]
  },
  {
   "cell_type": "code",
   "execution_count": 4,
   "id": "41996147-de63-476c-b160-8d8e6523b789",
   "metadata": {},
   "outputs": [],
   "source": [
    "import pandas as pd\n",
    "import matplotlib as plt\n",
    "import numpy as np\n",
    "import seaborn as sns"
   ]
  },
  {
   "cell_type": "code",
   "execution_count": 18,
   "id": "1297cb1d-6bfe-4847-b9f2-c78b254a5e3e",
   "metadata": {},
   "outputs": [],
   "source": [
    "intakes = pd.read_csv('../data/Austin_Animal_Center_Intakes.csv')"
   ]
  },
  {
   "cell_type": "code",
   "execution_count": 20,
   "id": "69043194-7072-4cd9-a5cb-07ff84b517c1",
   "metadata": {},
   "outputs": [],
   "source": [
    "outcomes = pd.read_csv('../data/Austin_Animal_Center_Outcomes.csv')"
   ]
  },
  {
   "cell_type": "code",
   "execution_count": 22,
   "id": "60b2e16c-aa63-4ea3-82ea-0b0cbdc2b717",
   "metadata": {},
   "outputs": [
    {
     "data": {
      "text/html": [
       "<div>\n",
       "<style scoped>\n",
       "    .dataframe tbody tr th:only-of-type {\n",
       "        vertical-align: middle;\n",
       "    }\n",
       "\n",
       "    .dataframe tbody tr th {\n",
       "        vertical-align: top;\n",
       "    }\n",
       "\n",
       "    .dataframe thead th {\n",
       "        text-align: right;\n",
       "    }\n",
       "</style>\n",
       "<table border=\"1\" class=\"dataframe\">\n",
       "  <thead>\n",
       "    <tr style=\"text-align: right;\">\n",
       "      <th></th>\n",
       "      <th>Animal ID</th>\n",
       "      <th>Name</th>\n",
       "      <th>DateTime</th>\n",
       "      <th>MonthYear</th>\n",
       "      <th>Found Location</th>\n",
       "      <th>Intake Type</th>\n",
       "      <th>Intake Condition</th>\n",
       "      <th>Animal Type</th>\n",
       "      <th>Sex upon Intake</th>\n",
       "      <th>Age upon Intake</th>\n",
       "      <th>Breed</th>\n",
       "      <th>Color</th>\n",
       "    </tr>\n",
       "  </thead>\n",
       "  <tbody>\n",
       "    <tr>\n",
       "      <th>0</th>\n",
       "      <td>A786884</td>\n",
       "      <td>*Brock</td>\n",
       "      <td>01/03/2019 04:19:00 PM</td>\n",
       "      <td>01/03/2019 04:19:00 PM</td>\n",
       "      <td>2501 Magin Meadow Dr in Austin (TX)</td>\n",
       "      <td>Stray</td>\n",
       "      <td>Normal</td>\n",
       "      <td>Dog</td>\n",
       "      <td>Neutered Male</td>\n",
       "      <td>2 years</td>\n",
       "      <td>Beagle Mix</td>\n",
       "      <td>Tricolor</td>\n",
       "    </tr>\n",
       "    <tr>\n",
       "      <th>1</th>\n",
       "      <td>A706918</td>\n",
       "      <td>Belle</td>\n",
       "      <td>07/05/2015 12:59:00 PM</td>\n",
       "      <td>07/05/2015 12:59:00 PM</td>\n",
       "      <td>9409 Bluegrass Dr in Austin (TX)</td>\n",
       "      <td>Stray</td>\n",
       "      <td>Normal</td>\n",
       "      <td>Dog</td>\n",
       "      <td>Spayed Female</td>\n",
       "      <td>8 years</td>\n",
       "      <td>English Springer Spaniel</td>\n",
       "      <td>White/Liver</td>\n",
       "    </tr>\n",
       "    <tr>\n",
       "      <th>2</th>\n",
       "      <td>A724273</td>\n",
       "      <td>Runster</td>\n",
       "      <td>04/14/2016 06:43:00 PM</td>\n",
       "      <td>04/14/2016 06:43:00 PM</td>\n",
       "      <td>2818 Palomino Trail in Austin (TX)</td>\n",
       "      <td>Stray</td>\n",
       "      <td>Normal</td>\n",
       "      <td>Dog</td>\n",
       "      <td>Intact Male</td>\n",
       "      <td>11 months</td>\n",
       "      <td>Basenji Mix</td>\n",
       "      <td>Sable/White</td>\n",
       "    </tr>\n",
       "    <tr>\n",
       "      <th>3</th>\n",
       "      <td>A665644</td>\n",
       "      <td>NaN</td>\n",
       "      <td>10/21/2013 07:59:00 AM</td>\n",
       "      <td>10/21/2013 07:59:00 AM</td>\n",
       "      <td>Austin (TX)</td>\n",
       "      <td>Stray</td>\n",
       "      <td>Sick</td>\n",
       "      <td>Cat</td>\n",
       "      <td>Intact Female</td>\n",
       "      <td>4 weeks</td>\n",
       "      <td>Domestic Shorthair Mix</td>\n",
       "      <td>Calico</td>\n",
       "    </tr>\n",
       "  </tbody>\n",
       "</table>\n",
       "</div>"
      ],
      "text/plain": [
       "  Animal ID     Name                DateTime               MonthYear  \\\n",
       "0   A786884   *Brock  01/03/2019 04:19:00 PM  01/03/2019 04:19:00 PM   \n",
       "1   A706918    Belle  07/05/2015 12:59:00 PM  07/05/2015 12:59:00 PM   \n",
       "2   A724273  Runster  04/14/2016 06:43:00 PM  04/14/2016 06:43:00 PM   \n",
       "3   A665644      NaN  10/21/2013 07:59:00 AM  10/21/2013 07:59:00 AM   \n",
       "\n",
       "                        Found Location Intake Type Intake Condition  \\\n",
       "0  2501 Magin Meadow Dr in Austin (TX)       Stray           Normal   \n",
       "1     9409 Bluegrass Dr in Austin (TX)       Stray           Normal   \n",
       "2   2818 Palomino Trail in Austin (TX)       Stray           Normal   \n",
       "3                          Austin (TX)       Stray             Sick   \n",
       "\n",
       "  Animal Type Sex upon Intake Age upon Intake                     Breed  \\\n",
       "0         Dog   Neutered Male         2 years                Beagle Mix   \n",
       "1         Dog   Spayed Female         8 years  English Springer Spaniel   \n",
       "2         Dog     Intact Male       11 months               Basenji Mix   \n",
       "3         Cat   Intact Female         4 weeks    Domestic Shorthair Mix   \n",
       "\n",
       "         Color  \n",
       "0     Tricolor  \n",
       "1  White/Liver  \n",
       "2  Sable/White  \n",
       "3       Calico  "
      ]
     },
     "execution_count": 22,
     "metadata": {},
     "output_type": "execute_result"
    }
   ],
   "source": [
    "intakes.head(4)"
   ]
  },
  {
   "cell_type": "code",
   "execution_count": null,
   "id": "3fe3a985-d1de-4e90-b5b4-fa8dc84c325d",
   "metadata": {},
   "outputs": [],
   "source": []
  },
  {
   "cell_type": "markdown",
   "id": "de312666-a3c1-42d1-925d-1ca75aea7417",
   "metadata": {},
   "source": [
    "0. Is the relationship between the intakes and outcomes tables one-to-one, many-to-one, one-to-many, or many-to-many?"
   ]
  },
  {
   "cell_type": "code",
   "execution_count": null,
   "id": "fb01746b-f695-4385-87fb-a7aef424746d",
   "metadata": {},
   "outputs": [],
   "source": []
  },
  {
   "cell_type": "markdown",
   "id": "b5a5d896-0c74-467d-ba27-ecc3b4482515",
   "metadata": {},
   "source": [
    "1. The key identifier variable for this data is the Animal ID. Perform a merge to determine if there are any animal ids from the intakes data that do not appear in the outcomes data and vice versa. Think carefully about which column or columns you'd like to merge on."
   ]
  },
  {
   "cell_type": "code",
   "execution_count": null,
   "id": "d027791a-ebfd-40f1-b193-f4fe0606cf10",
   "metadata": {},
   "outputs": [],
   "source": []
  },
  {
   "cell_type": "markdown",
   "id": "6a824b75-6ff6-40f5-a7ed-5ef6e803117e",
   "metadata": {},
   "source": [
    "2. Sometimes, the column you want to merge on is the index of the DataFrame. For this problem, let's try merging on the index. Set the index of the intakes and outcomes dataframes to \"Animal ID\" (using the set_index method and then merge the two. Afterwards, you may want to set the index back to how it originally was (using the reset_index method)."
   ]
  },
  {
   "cell_type": "code",
   "execution_count": null,
   "id": "196a81f3-1777-4e6e-a415-5b53e18819a4",
   "metadata": {},
   "outputs": [],
   "source": []
  },
  {
   "cell_type": "markdown",
   "id": "cbd5a11b-ea83-433e-a1e8-e87c162a9616",
   "metadata": {},
   "source": [
    "3. Merge the intakes and outcomes dataframe on just the Animal ID column. Notice that any other columns that are in common get a _x and _y suffix. Use the suffixes parameter to change this to _intake and _outcome. Are there are animal ids which have different Name values in the intake and outcomes DataFrames?"
   ]
  },
  {
   "cell_type": "code",
   "execution_count": null,
   "id": "3bf5bcd2-242f-48c2-a3af-e6cae77c766c",
   "metadata": {},
   "outputs": [],
   "source": []
  },
  {
   "cell_type": "markdown",
   "id": "113ae00f-c9a4-4771-969f-d57c280cbaa9",
   "metadata": {},
   "source": [
    "4a. Merging just on Animal ID doesn't necessarily match a given intake to its corresponding outcome. However, we can change the way that we merge to try to match these up correctly. a. We'll need to make use of the DateTime columns in order to make this merge work. Convert these columns to the datetime type."
   ]
  },
  {
   "cell_type": "code",
   "execution_count": null,
   "id": "796bc19f-76af-4348-a156-ea7fa46edba5",
   "metadata": {},
   "outputs": [],
   "source": []
  },
  {
   "cell_type": "markdown",
   "id": "1a85534c-0828-452c-8f86-4e25f98b2556",
   "metadata": {},
   "source": [
    "4b. Now, use the merge_asof function in order to match intake rows to their corresponding outcome rows. That is, each intake row should be matched with the outcome that is nearest to it in the future (still matched by Animal ID).."
   ]
  },
  {
   "cell_type": "code",
   "execution_count": null,
   "id": "d53f7969-ca9c-423a-bdca-66be6fd7d703",
   "metadata": {},
   "outputs": [],
   "source": []
  },
  {
   "cell_type": "markdown",
   "id": "dcc3a0d6-d73c-41ce-be00-91e499545d4a",
   "metadata": {},
   "source": [
    "4c. Are there any instance of an intake that doesn't have an outcome before the next intake? Keep only the last intake row for those cases."
   ]
  },
  {
   "cell_type": "code",
   "execution_count": null,
   "id": "5db09542-741e-4201-a2ea-aa8faf1c657e",
   "metadata": {},
   "outputs": [],
   "source": []
  },
  {
   "cell_type": "markdown",
   "id": "b7f7332d-a3f7-4fe2-bb90-70e9d19c91cd",
   "metadata": {},
   "source": [
    "4d. Create a new column showing the time between intake and outcome. What does the distribution of these values look like? Does it vary by animal type?"
   ]
  },
  {
   "cell_type": "code",
   "execution_count": null,
   "id": "2421fd11-a59f-4ed7-a724-ecebab74b154",
   "metadata": {},
   "outputs": [],
   "source": []
  },
  {
   "cell_type": "markdown",
   "id": "28aed5b2-bcac-4d3d-ab18-b2d22db9a324",
   "metadata": {},
   "source": [
    "4e. Find all rows where the animal is intact at intake and spayed or neutered at outcome. What percentage of intact intakes result in a spay or neuter?"
   ]
  },
  {
   "cell_type": "code",
   "execution_count": null,
   "id": "13fd6ba6-034c-4e36-8208-be85a5d04c94",
   "metadata": {},
   "outputs": [],
   "source": []
  }
 ],
 "metadata": {
  "kernelspec": {
   "display_name": "Python 3 (ipykernel)",
   "language": "python",
   "name": "python3"
  },
  "language_info": {
   "codemirror_mode": {
    "name": "ipython",
    "version": 3
   },
   "file_extension": ".py",
   "mimetype": "text/x-python",
   "name": "python",
   "nbconvert_exporter": "python",
   "pygments_lexer": "ipython3",
   "version": "3.12.4"
  }
 },
 "nbformat": 4,
 "nbformat_minor": 5
}
